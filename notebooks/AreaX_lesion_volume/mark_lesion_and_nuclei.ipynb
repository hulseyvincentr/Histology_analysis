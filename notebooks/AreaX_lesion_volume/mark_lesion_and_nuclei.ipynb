{
 "cells": [
  {
   "cell_type": "markdown",
   "metadata": {},
   "source": [
    "# This code runs in a similar manner to for_rose_3.ijm, by iterating through a folder's image files, then asking the user if the following is present, then, if so, having the user mark:\n",
    "1) The scalebar\n",
    "2) The striatum\n",
    "3) The lesion\n",
    "4) Area X\n",
    "5) LMAN\n",
    "\n",
    "It then stores the ROIs in a .csv file for further analysis."
   ]
  },
  {
   "cell_type": "code",
   "execution_count": 1,
   "metadata": {},
   "outputs": [],
   "source": [
    "from PIL import Image\n",
    "import tkinter as tk\n",
    "from tkinter import messagebox\n",
    "\n",
    "# Function to open the image\n",
    "def open_image(image_path):\n",
    "    image = Image.open(image_path)\n",
    "    image.show()\n",
    "\n",
    "# Function to display the checklist\n",
    "def show_checklist():\n",
    "    # Create the main window\n",
    "    root = tk.Tk()\n",
    "    root.title(\"Image Checklist\")\n",
    "\n",
    "    # Label to ask if items are present\n",
    "    tk.Label(root, text=\"Are the following present in the image?\").pack(anchor=\"w\", padx=20, pady=5)\n",
    "\n",
    "    # Dictionary to store the checklist options and their states\n",
    "    options = {\n",
    "        \"Striata Lamina\": tk.BooleanVar(),\n",
    "        \"Lesion\": tk.BooleanVar(),\n",
    "        \"Area X\": tk.BooleanVar(),\n",
    "        \"LMAN\": tk.BooleanVar()\n",
    "    }\n",
    "\n",
    "    # Create checkboxes for each option\n",
    "    for option, var in options.items():\n",
    "        tk.Checkbutton(root, text=option, variable=var).pack(anchor=\"w\", padx=20)\n",
    "\n",
    "    # Function to process the checklist when \"Submit\" is clicked\n",
    "    def submit():\n",
    "        # Collect results\n",
    "        results = {option: var.get() for option, var in options.items()}\n",
    "        # Display results in a messagebox\n",
    "        message = \"\\n\".join(f\"{key}: {'Yes' if value else 'No'}\" for key, value in results.items())\n",
    "        messagebox.showinfo(\"Checklist Results\", message)\n",
    "        root.destroy()  # Close the window\n",
    "\n",
    "    # Submit button\n",
    "    tk.Button(root, text=\"Submit\", command=submit).pack(pady=10)\n",
    "\n",
    "    root.mainloop()\n",
    "\n",
    "# Main execution\n",
    "image_path = '/Users/mirandahulsey-vincent/Documents/allPythonCode/Histology_analysis/inputs/USA5288_042624.01.02_Nissl_5x/USA5288_042624.01/042624.01_sect10_NISSL_5x.jpg'  # Replace with your actual image path\n",
    "open_image(image_path)\n",
    "show_checklist()"
   ]
  },
  {
   "cell_type": "code",
   "execution_count": null,
   "metadata": {},
   "outputs": [],
   "source": []
  }
 ],
 "metadata": {
  "kernelspec": {
   "display_name": "Histology_analysis",
   "language": "python",
   "name": "python3"
  },
  "language_info": {
   "codemirror_mode": {
    "name": "ipython",
    "version": 3
   },
   "file_extension": ".py",
   "mimetype": "text/x-python",
   "name": "python",
   "nbconvert_exporter": "python",
   "pygments_lexer": "ipython3",
   "version": "3.13.0"
  }
 },
 "nbformat": 4,
 "nbformat_minor": 2
}
